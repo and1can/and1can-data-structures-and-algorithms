{
 "cells": [
  {
   "cell_type": "code",
   "execution_count": 8,
   "metadata": {},
   "outputs": [],
   "source": [
    "class Business(object): \n",
    "    \n",
    "    def __init__(self, name, location, id): \n",
    "        self.name = name\n",
    "        self.location = location\n",
    "        self.id = id\n",
    "\n",
    "class Chain(object): \n",
    "    \n",
    "    def __init__(self, name, frequency): \n",
    "        self.name = name\n",
    "        self.frequency = frequency\n",
    "        \n",
    "    def __repr__(self): \n",
    "        return ''.join([self.name, ' ', str(self.frequency)])"
   ]
  },
  {
   "cell_type": "code",
   "execution_count": 2,
   "metadata": {},
   "outputs": [],
   "source": [
    "from collections import defaultdict"
   ]
  },
  {
   "cell_type": "code",
   "execution_count": 12,
   "metadata": {},
   "outputs": [],
   "source": [
    "def detect_and_order_chain_businesses(businesses, location): \n",
    "    valid = defaultdict(list)\n",
    "    for business in businesses: \n",
    "        if business.location == location: \n",
    "            if business.id not in valid[business.name]: \n",
    "                valid[business.name].append(business.id)\n",
    "    chains = []\n",
    "    for key in valid.keys(): \n",
    "        chains.append(Chain(key, len(set(valid[key]))))\n",
    "    chains.sort(key = lambda x: x.name)\n",
    "    chains.sort(key = lambda x: -1*x.frequency)\n",
    "    \n",
    "    \n",
    "    return chains"
   ]
  },
  {
   "cell_type": "code",
   "execution_count": 10,
   "metadata": {},
   "outputs": [],
   "source": [
    "businesses = [Business('Whole-Food', 'San Francisco', 103), Business('Whole-Food', 'Berkeley', 103),\n",
    "              Business('Whole-Food', 'San Francisco', 105), Business('Sprouts', 'San Francisco', 103),\n",
    "              Business('Sprouts', 'San Francisco', 109), Business('Sprouts', 'San Francisco', 109), \n",
    "              Business('Trader-Joes', 'San Francisco', 109), Business('Trader-Joes', 'San Francisco', 109)]\n"
   ]
  },
  {
   "cell_type": "code",
   "execution_count": 13,
   "metadata": {},
   "outputs": [
    {
     "data": {
      "text/plain": [
       "[Sprouts 2, Whole-Food 2, Trader-Joes 1]"
      ]
     },
     "execution_count": 13,
     "metadata": {},
     "output_type": "execute_result"
    }
   ],
   "source": [
    "detect_and_order_chain_businesses(businesses, 'San Francisco')"
   ]
  },
  {
   "cell_type": "code",
   "execution_count": null,
   "metadata": {},
   "outputs": [],
   "source": []
  }
 ],
 "metadata": {
  "kernelspec": {
   "display_name": "Python 3",
   "language": "python",
   "name": "python3"
  },
  "language_info": {
   "codemirror_mode": {
    "name": "ipython",
    "version": 3
   },
   "file_extension": ".py",
   "mimetype": "text/x-python",
   "name": "python",
   "nbconvert_exporter": "python",
   "pygments_lexer": "ipython3",
   "version": "3.6.8"
  }
 },
 "nbformat": 4,
 "nbformat_minor": 2
}
